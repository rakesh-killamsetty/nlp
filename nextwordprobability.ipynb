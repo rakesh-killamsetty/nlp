{
  "nbformat": 4,
  "nbformat_minor": 0,
  "metadata": {
    "colab": {
      "provenance": []
    },
    "kernelspec": {
      "name": "python3",
      "display_name": "Python 3"
    },
    "language_info": {
      "name": "python"
    }
  },
  "cells": [
    {
      "cell_type": "code",
      "source": [
        "import nltk\n",
        "from collections import defaultdict,Counter\n",
        "import random as ran\n",
        "\n",
        "nltk.download('punkt')\n",
        "\n",
        "def pred_next_word(prev_word,model):\n",
        "  last_word=prev_word[-1]\n",
        "  if last_word not in model:\n",
        "    return None\n",
        "  next_word_prob=model[last_word]\n",
        "  print(\"probabiliuties of each word\")\n",
        "  print(model[last_word])\n",
        "  next_word=max(next_word_prob,key=next_word_prob.get)\n",
        "  return next_word\n",
        "\n",
        "sentence=input(\"Enter the sentence\")\n",
        "tokens=nltk.word_tokenize(sentence)\n",
        "bi_gram=list(nltk.bigrams(tokens))\n",
        "pair_freq=defaultdict(int) # Initialize pair_freq as a defaultdict\n",
        "\n",
        "for pair in bi_gram:\n",
        "  pair_freq[pair]+=1  # Increment count for each bigram\n",
        "\n",
        "total_word_count=Counter() # Initialize total_word_count as a Counter\n",
        "for(w1,w2) in bi_gram:\n",
        "  total_word_count[w1]+=1\n",
        "\n",
        "model=defaultdict(Counter) # Initialize model as a defaultdict of dictionaries\n",
        "\n",
        "\n",
        "for (w1, w2), freq in pair_freq.items():\n",
        "  model[w1][w2] = freq / total_word_count[w1] # Calculate probabilities\n",
        "prev_words=input(\"enter the word seprated by space: \").lower().split() # Split input into a list of words\n",
        "next_word=pred_next_word(prev_words,model)\n",
        "print(\"next probable word is : \",next_word)"
      ],
      "metadata": {
        "colab": {
          "base_uri": "https://localhost:8080/"
        },
        "id": "FidMLMjBpTkX",
        "outputId": "c4bc1ae5-da32-437c-b6af-fba439b3aa09"
      },
      "execution_count": 17,
      "outputs": [
        {
          "output_type": "stream",
          "name": "stderr",
          "text": [
            "[nltk_data] Downloading package punkt to /root/nltk_data...\n",
            "[nltk_data]   Package punkt is already up-to-date!\n"
          ]
        },
        {
          "output_type": "stream",
          "name": "stdout",
          "text": [
            "Enter the sentencei am i was i can i shouls i can i\n",
            "enter the word seprated by space: i\n",
            "probabiliuties of each word\n",
            "Counter({'can': 0.4, 'am': 0.2, 'was': 0.2, 'shouls': 0.2})\n",
            "next probable word is :  can\n"
          ]
        }
      ]
    }
  ]
}