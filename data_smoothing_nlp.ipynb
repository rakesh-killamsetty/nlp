{
  "nbformat": 4,
  "nbformat_minor": 0,
  "metadata": {
    "colab": {
      "provenance": []
    },
    "kernelspec": {
      "name": "python3",
      "display_name": "Python 3"
    },
    "language_info": {
      "name": "python"
    }
  },
  "cells": [
    {
      "cell_type": "code",
      "execution_count": null,
      "metadata": {
        "id": "DtdH6HEhdCxR"
      },
      "outputs": [],
      "source": [
        "import numpy as np\n",
        "from collections import defaultdict\n",
        "import pandas as pd\n"
      ]
    },
    {
      "cell_type": "code",
      "source": [
        "bigram_counts={\n",
        "    'eos':{'eos':0,'I':300,'booked':0,'a':0,'flight':0,'took':300},\n",
        "    'I':{'eos':0,'I':0,'booked':300,'a':0,'flight':0,'took':0},\n",
        "    'booked':{'eos':0,'I':0,'booked':0,'a':300,'flight':0,'took':0},\n",
        "    'a':{'eos':0,'I':0,'booked':0,'a':0,'flight':600,'took':0},\n",
        "    'flight':{'eos':600,'I':0,'booked':0,'a':0,'flight':0,'took':0},\n",
        "    'took':{'eos':0,'I':0,'booked':0,'a':300,'flight':0,'took':0}\n",
        "}"
      ],
      "metadata": {
        "id": "hDu_Hil1dK_Z"
      },
      "execution_count": null,
      "outputs": []
    },
    {
      "cell_type": "code",
      "source": [
        "vocab=list(bigram_counts.keys())\n",
        "vocab_size=len(vocab)\n",
        "alpha=1\n",
        "bigram_probabilities=defaultdict(lambda:defaultdict(float))\n"
      ],
      "metadata": {
        "id": "GyZ2oHTyeHZV"
      },
      "execution_count": null,
      "outputs": []
    },
    {
      "cell_type": "code",
      "source": [
        "for word1 in vocab:\n",
        "    total_count=sum(bigram_counts[word1].values())\n",
        "    for word2 in vocab:\n",
        "        count=bigram_counts[word1][word2]\n",
        "        bigram_probabilities[word1][word2]=(count+alpha)/(total_count+alpha*vocab_size)"
      ],
      "metadata": {
        "id": "xquxngF0eiGr"
      },
      "execution_count": null,
      "outputs": []
    },
    {
      "cell_type": "code",
      "source": [
        "bigram_prob_matrix=np.zeros((vocab_size,vocab_size))\n",
        "word_to_index={word:i for i,word in enumerate(vocab)}\n",
        "for word1 in vocab:\n",
        "    for word2 in vocab:\n",
        "        bigram_prob_matrix[word_to_index[word1],word_to_index[word2]]=bigram_probabilities[word1][word2]"
      ],
      "metadata": {
        "id": "i_OtQnkYfEDS"
      },
      "execution_count": null,
      "outputs": []
    },
    {
      "cell_type": "code",
      "source": [
        "print(\"Bi-gram probability before smoothing\")\n",
        "df1=pd.DataFrame(bigram_counts,index=vocab,columns=vocab)\n",
        "print(df1)\n",
        "\n",
        "print(\"Bi-gram probability after smoothing\")\n",
        "df2=pd.DataFrame(bigram_prob_matrix,index=vocab,columns=vocab)\n",
        "print(df2)"
      ],
      "metadata": {
        "colab": {
          "base_uri": "https://localhost:8080/"
        },
        "id": "rgAhrK_Mfig9",
        "outputId": "5ab3a2f8-8b74-49b7-fdb7-0bd9ff954fe0"
      },
      "execution_count": null,
      "outputs": [
        {
          "output_type": "stream",
          "name": "stdout",
          "text": [
            "Bi-gram probability before smoothing\n",
            "        eos    I  booked    a  flight  took\n",
            "eos       0    0       0    0     600     0\n",
            "I       300    0       0    0       0     0\n",
            "booked    0  300       0    0       0     0\n",
            "a         0    0     300    0       0   300\n",
            "flight    0    0       0  600       0     0\n",
            "took    300    0       0    0       0     0\n",
            "Bi-gram probability after smoothing\n",
            "             eos         I    booked         a    flight      took\n",
            "eos     0.001650  0.496700  0.001650  0.001650  0.001650  0.496700\n",
            "I       0.003268  0.003268  0.983660  0.003268  0.003268  0.003268\n",
            "booked  0.003268  0.003268  0.003268  0.983660  0.003268  0.003268\n",
            "a       0.001650  0.001650  0.001650  0.001650  0.991749  0.001650\n",
            "flight  0.991749  0.001650  0.001650  0.001650  0.001650  0.001650\n",
            "took    0.003268  0.003268  0.003268  0.983660  0.003268  0.003268\n"
          ]
        }
      ]
    }
  ]
}